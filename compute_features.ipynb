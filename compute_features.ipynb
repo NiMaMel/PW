{
 "cells": [
  {
   "cell_type": "markdown",
   "id": "e187cee1",
   "metadata": {},
   "source": [
    "# Feature computation"
   ]
  },
  {
   "cell_type": "code",
   "execution_count": 1,
   "id": "0401d901",
   "metadata": {},
   "outputs": [
    {
     "data": {
      "text/plain": [
       "3"
      ]
     },
     "execution_count": 1,
     "metadata": {},
     "output_type": "execute_result"
    }
   ],
   "source": [
    "example_molecules = [\n",
    "    'CC1CC2C3CCC4=CC(=O)C=CC4([C@]3(C(CC2([C@]1(C(=O)CCl)O)C)O)F)C',\n",
    "    'CCCCCCOC(=O)N=C(C1=CC=C(C=C1)NCC2=NC3=C(N2C)C=CC(=C3)C(=O)N(CCC(=O)OCC)C4=CC=CC=N4)N',\n",
    "    'CSCCC(C(=O)NCC(=O)NC(CC1=CNC2=CC=CC=C21)C(=O)NC(CCSC)C(=O)NC(CC(=O)O)C(=O)NC(CC3=CC=CC=C3)C(=O)N)NC(=O)C(CC4=CC=C(C=C4)OS(=O)(=O)O)NC(=O)C(CC(=O)O)N'\n",
    "]\n",
    "\n",
    "len(example_molecules)"
   ]
  },
  {
   "cell_type": "code",
   "execution_count": 2,
   "id": "7f3c33fb",
   "metadata": {},
   "outputs": [],
   "source": [
    "import numpy as np\n",
    "\n",
    "from rdkit import Chem\n",
    "from rdkit import DataStructs\n",
    "from rdkit.Chem import Descriptors, rdFingerprintGenerator\n",
    "\n",
    "from statsmodels.distributions.empirical_distribution import ECDF\n",
    "\n",
    "real_200_descr = [0,1,2,3,4,5,6,7,8,9,10,11,12,13,14,15,16,25,26,27,28,29,30, 31,32,33,34,35,36,37,38,39,40,41,42,43,44,45,46,47,48,49,50,51,52,53,54,55,56,57,58,59,60,61,62,63,64,65,66,67,68,69,70,71,72,73,74,75,76,77,78,79,80,81,82,83,84,85,86,87,88,89,90,91,92,93,94,95,96,97,98,99,100,101,102,103,104,105,106,107,108,109,110,111,112,113,114,115,116,117,118,119,120,121,122,123,124,125,126,127,128,129,130,131,132,133,134,135,136,137,138,139,140,141,142,143,144,145,146,147,148,149,150,151,152,153,154,155,156,157,158,159,160,161,162,163,164,165,166,167,168,169,170,171,172,173,174,175,176,177,178,179,180,181,182,183,184,185,186,187,188,189,190,191,192,193,194,195,196,197,198,199,200,201,202,203,204,205,206,207]"
   ]
  },
  {
   "cell_type": "code",
   "execution_count": 3,
   "id": "d045cd28",
   "metadata": {},
   "outputs": [
    {
     "data": {
      "text/plain": [
       "200"
      ]
     },
     "execution_count": 3,
     "metadata": {},
     "output_type": "execute_result"
    }
   ],
   "source": [
    "len(real_200_descr) "
   ]
  },
  {
   "cell_type": "code",
   "execution_count": 4,
   "id": "3ca61c80",
   "metadata": {},
   "outputs": [
    {
     "name": "stdout",
     "output_type": "stream",
     "text": [
      "[17, 18, 19, 20, 21, 22, 23, 24]\n"
     ]
    }
   ],
   "source": [
    "check_list = list(range(208))\n",
    "\n",
    "print([i for i in check_list if i not in real_200_descr])"
   ]
  },
  {
   "cell_type": "code",
   "execution_count": 5,
   "id": "21b74f7e",
   "metadata": {},
   "outputs": [
    {
     "data": {
      "image/png": "[encoded data removed]",
      "text/plain": [
       "<rdkit.Chem.rdchem.Mol at 0x20c1f11c190>"
      ]
     },
     "execution_count": 5,
     "metadata": {},
     "output_type": "execute_result"
    }
   ],
   "source": [
    "# create mol objects\n",
    "mols = list()\n",
    "\n",
    "for smiles in example_molecules:\n",
    "    mol = Chem.MolFromSmiles(smiles)\n",
    "    mols.append(mol)\n",
    "    \n",
    "mols[0]"
   ]
  },
  {
   "cell_type": "code",
   "execution_count": 6,
   "id": "8be5342d",
   "metadata": {},
   "outputs": [
    {
     "data": {
      "text/plain": [
       "(3, 2048)"
      ]
     },
     "execution_count": 6,
     "metadata": {},
     "output_type": "execute_result"
    }
   ],
   "source": [
    "# ECFP fingerprints\n",
    "ecfps = list()\n",
    "\n",
    "for mol in mols:\n",
    "    fp_sparseVec = rdFingerprintGenerator.GetCountFPs(\n",
    "                    [mol], fpType=rdFingerprintGenerator.MorganFP\n",
    "                   )[0]\n",
    "    fp = np.zeros((0,), np.int8)  # Generate target pointer to fill\n",
    "    DataStructs.ConvertToNumpyArray(fp_sparseVec, fp)\n",
    "    \n",
    "    ecfps.append(fp)\n",
    "\n",
    "ecfps = np.array(ecfps)\n",
    "\n",
    "ecfps.shape"
   ]
  },
  {
   "cell_type": "code",
   "execution_count": 7,
   "id": "1654c8f7",
   "metadata": {},
   "outputs": [
    {
     "data": {
      "text/plain": [
       "(3, 200)"
      ]
     },
     "execution_count": 7,
     "metadata": {},
     "output_type": "execute_result"
    }
   ],
   "source": [
    "# Descriptors\n",
    "rdkit_descriptors = list()\n",
    "\n",
    "for i,mol in enumerate(mols):\n",
    "    descrs = list()\n",
    "    for descr in Descriptors._descList:\n",
    "        _, descr_calc_fn = descr\n",
    "        descrs.append(descr_calc_fn(mol))\n",
    "        \n",
    "    descrs = np.array(descrs)\n",
    "    descrs = descrs[real_200_descr]\n",
    "    rdkit_descriptors.append(descrs)\n",
    "    \n",
    "rdkit_descriptors = np.array(rdkit_descriptors)\n",
    "\n",
    "rdkit_descriptors.shape"
   ]
  },
  {
   "cell_type": "code",
   "execution_count": 1,
   "id": "80106b25",
   "metadata": {},
   "outputs": [
    {
     "ename": "NameError",
     "evalue": "name 'rdkit_descriptors' is not defined",
     "output_type": "error",
     "traceback": [
      "\u001b[1;31m---------------------------------------------------------------------------\u001b[0m",
      "\u001b[1;31mNameError\u001b[0m                                 Traceback (most recent call last)",
      "Cell \u001b[1;32mIn[1], line 2\u001b[0m\n\u001b[0;32m      1\u001b[0m \u001b[38;5;66;03m# report quantils for rdkit descriptors\u001b[39;00m\n\u001b[1;32m----> 2\u001b[0m descriptors_raw_forECDF \u001b[38;5;241m=\u001b[39m  \u001b[43mrdkit_descriptors\u001b[49m\n",
      "\u001b[1;31mNameError\u001b[0m: name 'rdkit_descriptors' is not defined"
     ]
    }
   ],
   "source": [
    "# report quantils for rdkit descriptors\n",
    "descriptors_raw_forECDF =  rdkit_descriptors # rdkit descriptors of training set"
   ]
  },
  {
   "cell_type": "code",
   "execution_count": 11,
   "id": "33e50e48-3e21-4b7b-be24-328bd3959fc3",
   "metadata": {},
   "outputs": [
    {
     "data": {
      "text/plain": [
       "array([[ 0,  1,  2],\n",
       "       [ 3,  4,  5],\n",
       "       [ 6,  7,  8],\n",
       "       [ 9, 10, 11]])"
      ]
     },
     "execution_count": 11,
     "metadata": {},
     "output_type": "execute_result"
    }
   ],
   "source": [
    "import numpy as np\n",
    "a = np.arange(12).reshape(4,3)\n",
    "a"
   ]
  },
  {
   "cell_type": "code",
   "execution_count": 12,
   "id": "baae3460-f6a6-4e76-b9fc-8639b0ea0027",
   "metadata": {},
   "outputs": [
    {
     "name": "stdout",
     "output_type": "stream",
     "text": [
      "[0 3 6 9]\n",
      "[0 3 6 9]\n",
      "True \n",
      "\n",
      "[ 1  4  7 10]\n",
      "[ 1  4  7 10]\n",
      "True \n",
      "\n",
      "[ 2  5  8 11]\n",
      "[ 2  5  8 11]\n",
      "True \n",
      "\n"
     ]
    }
   ],
   "source": [
    "for i in range(a.shape[1]):\n",
    "    print(a[:,i].reshape(-1))\n",
    "    print(a[:,i] )\n",
    "    print(np.all(a[:,i].reshape(-1)  == a[:,i]), \"\\n\")"
   ]
  },
  {
   "cell_type": "code",
   "execution_count": 9,
   "id": "825a6b9a",
   "metadata": {},
   "outputs": [],
   "source": [
    "rdkit_descriptors_quantils = np.zeros_like(rdkit_descriptors)\n",
    "\n",
    "for column in range(descriptors_raw_forECDF.shape[1]):\n",
    "    raw_values_ecdf = descriptors_raw_forECDF[:,column].reshape(-1)\n",
    "    raw_values = rdkit_descriptors[:,column]#.reshape(-1)\n",
    "\n",
    "    ecdf = ECDF(raw_values_ecdf)\n",
    "    quantils = ecdf(raw_values)\n",
    "    rdkit_descriptors_quantils[:,column] = quantils"
   ]
  },
  {
   "cell_type": "code",
   "execution_count": 11,
   "id": "04d664e1",
   "metadata": {},
   "outputs": [],
   "source": [
    "# standardize features"
   ]
  },
  {
   "cell_type": "code",
   "execution_count": 19,
   "id": "3d222c78-cce9-49c8-ae8b-0d028a06ae4b",
   "metadata": {},
   "outputs": [],
   "source": [
    "from sklearn.model_selection import train_test_split"
   ]
  },
  {
   "cell_type": "code",
   "execution_count": 25,
   "id": "4c4f822e-d67c-4918-9349-3ea37483c4e5",
   "metadata": {},
   "outputs": [
    {
     "data": {
      "text/plain": [
       "array([0, 1, 2, 3, 4, 5, 6, 7, 8, 9])"
      ]
     },
     "execution_count": 25,
     "metadata": {},
     "output_type": "execute_result"
    }
   ],
   "source": [
    "a = np.arange(10)\n",
    "\n",
    "a"
   ]
  },
  {
   "cell_type": "code",
   "execution_count": 26,
   "id": "b373c9c8-5575-4562-9a24-b155f9a452e9",
   "metadata": {},
   "outputs": [
    {
     "data": {
      "text/plain": [
       "array([0, 0, 1, 1, 1, 1, 0, 1, 0, 0])"
      ]
     },
     "execution_count": 26,
     "metadata": {},
     "output_type": "execute_result"
    }
   ],
   "source": [
    "b = np.random.randint(2, size=10)\n",
    "\n",
    "b"
   ]
  },
  {
   "cell_type": "code",
   "execution_count": 27,
   "id": "a1fa58c7-8ee4-4aab-b5b5-b66ff0e67853",
   "metadata": {},
   "outputs": [],
   "source": [
    "X_train, X_test, y_train, y_test = train_test_split(a, b, test_size=0.2, random_state=1)\n",
    "\n",
    "X_train, X_val, y_train, y_val = train_test_split(X_train, y_train, test_size=0.25, random_state=1) # 0.25 x 0.8 = 0.2"
   ]
  },
  {
   "cell_type": "code",
   "execution_count": 28,
   "id": "1a2941ff-e403-4bbf-a234-bace15261eaa",
   "metadata": {},
   "outputs": [
    {
     "name": "stdout",
     "output_type": "stream",
     "text": [
      "size: ((6,), (6,))\n",
      "\n",
      "array: (array([4, 8, 6, 1, 3, 7]), array([1, 0, 0, 0, 1, 1]))\n",
      "\n",
      "size: ((2,), (2,))\n",
      "\n",
      "array: (array([5, 0]), array([1, 0]))\n",
      "\n",
      "size: ((2,), (2,))\n",
      "\n",
      "array: (array([2, 9]), array([1, 0]))\n",
      "\n"
     ]
    }
   ],
   "source": [
    "for X,y in zip([X_train,X_val,X_test],[y_train,y_val,y_test]):\n",
    "\n",
    "    print(f\"size: {X.shape , y.shape}\\n\")\n",
    "    print(f\"array: {X , y}\\n\")\n",
    "    "
   ]
  },
  {
   "cell_type": "code",
   "execution_count": null,
   "id": "1fab5709-483b-4c0b-b5dc-c62737ea49e6",
   "metadata": {},
   "outputs": [],
   "source": []
  }
 ],
 "metadata": {
  "kernelspec": {
   "display_name": "Python 3 (ipykernel)",
   "language": "python",
   "name": "python3"
  },
  "language_info": {
   "codemirror_mode": {
    "name": "ipython",
    "version": 3
   },
   "file_extension": ".py",
   "mimetype": "text/x-python",
   "name": "python",
   "nbconvert_exporter": "python",
   "pygments_lexer": "ipython3",
   "version": "3.10.13"
  }
 },
 "nbformat": 4,
 "nbformat_minor": 5
}

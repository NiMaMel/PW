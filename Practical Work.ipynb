{
 "cells": [
  {
   "cell_type": "markdown",
   "id": "245a0370-178b-48df-8605-a2f84621f7b5",
   "metadata": {},
   "source": [
    "### Notes (open tasks):\n",
    "\n",
    "- ~AUC-Metric~ \n",
    "- ~Average Metric over all Tasks~  \n",
    "- ~Check Tensorboard~ (open anaconda -> move to pw dir -> python -m tensorboard.main --logdir=runs\n",
    "- find a good naming pattern for models, to check which config params were used (for tensorboard)\n",
    "- Hyperparameter search\n",
    "- train model and baseline over 10 different seeds and avg over their performances\n",
    "- Report "
   ]
  },
  {
   "cell_type": "markdown",
   "id": "8c149857-aaab-499c-b505-2038de63c578",
   "metadata": {},
   "source": [
    "### Imports"
   ]
  },
  {
   "cell_type": "code",
   "execution_count": 1,
   "id": "ea889c47-39bd-44d1-aacf-6ecade0befb1",
   "metadata": {},
   "outputs": [],
   "source": [
    "seed = 42\n",
    "\n",
    "import os\n",
    "import json\n",
    "import numpy as np\n",
    "import pandas as pd\n",
    "\n",
    "import torch as torch\n",
    "import torch.nn as nn\n",
    "import torch.optim as optim\n",
    "from torch.utils.data import DataLoader\n",
    "from torch.utils.tensorboard import SummaryWriter\n",
    "\n",
    "from sklearn.metrics import accuracy_score, f1_score, average_precision_score\n",
    "\n",
    "from fs_model import Model\n",
    "from dataset_modul import Dataset\n",
    "from preprocessing import preprocessing\n",
    "from utils import data_split, acc_f1, flatten,train_rf, dauc_pr, auc_score, train_model, combined_metrics, eval_rf"
   ]
  },
  {
   "cell_type": "markdown",
   "id": "c28f0ee7-104b-4ebe-81b4-d708bacac176",
   "metadata": {},
   "source": [
    "### Cuda settings"
   ]
  },
  {
   "cell_type": "code",
   "execution_count": 2,
   "id": "f5b29c7c-7be0-4707-971d-9d46c94d2cbc",
   "metadata": {},
   "outputs": [
    {
     "name": "stdout",
     "output_type": "stream",
     "text": [
      "NVIDIA GeForce RTX 4060 Ti\n"
     ]
    }
   ],
   "source": [
    "# use cuda\n",
    "if torch.cuda.is_available():\n",
    "    device_id = torch.cuda.current_device()\n",
    "    device = torch.device('cuda:%d' % device_id)\n",
    "    print(torch.cuda.get_device_name(device_id))\n",
    "else:\n",
    "    device = torch.device('cpu')"
   ]
  },
  {
   "cell_type": "markdown",
   "id": "3d469c3e",
   "metadata": {},
   "source": [
    "# 1. Load Dataset"
   ]
  },
  {
   "cell_type": "code",
   "execution_count": 3,
   "id": "49c55759",
   "metadata": {},
   "outputs": [
    {
     "name": "stdout",
     "output_type": "stream",
     "text": [
      "Shape:  (1427, 28)\n",
      "Measurments:  39956\n"
     ]
    },
    {
     "data": {
      "text/html": [
       "<div>\n",
       "<style scoped>\n",
       "    .dataframe tbody tr th:only-of-type {\n",
       "        vertical-align: middle;\n",
       "    }\n",
       "\n",
       "    .dataframe tbody tr th {\n",
       "        vertical-align: top;\n",
       "    }\n",
       "\n",
       "    .dataframe thead th {\n",
       "        text-align: right;\n",
       "    }\n",
       "</style>\n",
       "<table border=\"1\" class=\"dataframe\">\n",
       "  <thead>\n",
       "    <tr style=\"text-align: right;\">\n",
       "      <th></th>\n",
       "      <th>smiles</th>\n",
       "      <th>Hepatobiliary disorders</th>\n",
       "      <th>Metabolism and nutrition disorders</th>\n",
       "      <th>Product issues</th>\n",
       "      <th>Eye disorders</th>\n",
       "      <th>Investigations</th>\n",
       "      <th>Musculoskeletal and connective tissue disorders</th>\n",
       "      <th>Gastrointestinal disorders</th>\n",
       "      <th>Social circumstances</th>\n",
       "      <th>Immune system disorders</th>\n",
       "      <th>...</th>\n",
       "      <th>Congenital, familial and genetic disorders</th>\n",
       "      <th>Infections and infestations</th>\n",
       "      <th>Respiratory, thoracic and mediastinal disorders</th>\n",
       "      <th>Psychiatric disorders</th>\n",
       "      <th>Renal and urinary disorders</th>\n",
       "      <th>Pregnancy, puerperium and perinatal conditions</th>\n",
       "      <th>Ear and labyrinth disorders</th>\n",
       "      <th>Cardiac disorders</th>\n",
       "      <th>Nervous system disorders</th>\n",
       "      <th>Injury, poisoning and procedural complications</th>\n",
       "    </tr>\n",
       "  </thead>\n",
       "  <tbody>\n",
       "    <tr>\n",
       "      <th>0</th>\n",
       "      <td>C(CNCCNCCNCCN)N</td>\n",
       "      <td>1</td>\n",
       "      <td>1</td>\n",
       "      <td>0</td>\n",
       "      <td>0</td>\n",
       "      <td>1</td>\n",
       "      <td>1</td>\n",
       "      <td>1</td>\n",
       "      <td>0</td>\n",
       "      <td>0</td>\n",
       "      <td>...</td>\n",
       "      <td>0</td>\n",
       "      <td>0</td>\n",
       "      <td>1</td>\n",
       "      <td>1</td>\n",
       "      <td>0</td>\n",
       "      <td>0</td>\n",
       "      <td>1</td>\n",
       "      <td>1</td>\n",
       "      <td>1</td>\n",
       "      <td>0</td>\n",
       "    </tr>\n",
       "    <tr>\n",
       "      <th>1</th>\n",
       "      <td>CC(C)(C)C1=CC(=C(C=C1NC(=O)C2=CNC3=CC=CC=C3C2=...</td>\n",
       "      <td>0</td>\n",
       "      <td>1</td>\n",
       "      <td>0</td>\n",
       "      <td>0</td>\n",
       "      <td>1</td>\n",
       "      <td>1</td>\n",
       "      <td>1</td>\n",
       "      <td>0</td>\n",
       "      <td>0</td>\n",
       "      <td>...</td>\n",
       "      <td>0</td>\n",
       "      <td>1</td>\n",
       "      <td>1</td>\n",
       "      <td>0</td>\n",
       "      <td>0</td>\n",
       "      <td>0</td>\n",
       "      <td>1</td>\n",
       "      <td>0</td>\n",
       "      <td>1</td>\n",
       "      <td>0</td>\n",
       "    </tr>\n",
       "    <tr>\n",
       "      <th>2</th>\n",
       "      <td>CC[C@]12CC(=C)[C@H]3[C@H]([C@@H]1CC[C@]2(C#C)O...</td>\n",
       "      <td>0</td>\n",
       "      <td>1</td>\n",
       "      <td>0</td>\n",
       "      <td>1</td>\n",
       "      <td>1</td>\n",
       "      <td>0</td>\n",
       "      <td>1</td>\n",
       "      <td>0</td>\n",
       "      <td>1</td>\n",
       "      <td>...</td>\n",
       "      <td>0</td>\n",
       "      <td>0</td>\n",
       "      <td>0</td>\n",
       "      <td>1</td>\n",
       "      <td>0</td>\n",
       "      <td>0</td>\n",
       "      <td>0</td>\n",
       "      <td>0</td>\n",
       "      <td>1</td>\n",
       "      <td>0</td>\n",
       "    </tr>\n",
       "    <tr>\n",
       "      <th>3</th>\n",
       "      <td>CCC12CC(=C)C3C(C1CC[C@]2(C#C)O)CCC4=CC(=O)CCC34</td>\n",
       "      <td>1</td>\n",
       "      <td>1</td>\n",
       "      <td>0</td>\n",
       "      <td>1</td>\n",
       "      <td>1</td>\n",
       "      <td>1</td>\n",
       "      <td>1</td>\n",
       "      <td>0</td>\n",
       "      <td>1</td>\n",
       "      <td>...</td>\n",
       "      <td>1</td>\n",
       "      <td>1</td>\n",
       "      <td>1</td>\n",
       "      <td>1</td>\n",
       "      <td>1</td>\n",
       "      <td>1</td>\n",
       "      <td>0</td>\n",
       "      <td>0</td>\n",
       "      <td>1</td>\n",
       "      <td>1</td>\n",
       "    </tr>\n",
       "    <tr>\n",
       "      <th>4</th>\n",
       "      <td>C1C(C2=CC=CC=C2N(C3=CC=CC=C31)C(=O)N)O</td>\n",
       "      <td>1</td>\n",
       "      <td>1</td>\n",
       "      <td>0</td>\n",
       "      <td>1</td>\n",
       "      <td>1</td>\n",
       "      <td>1</td>\n",
       "      <td>1</td>\n",
       "      <td>0</td>\n",
       "      <td>1</td>\n",
       "      <td>...</td>\n",
       "      <td>0</td>\n",
       "      <td>1</td>\n",
       "      <td>1</td>\n",
       "      <td>1</td>\n",
       "      <td>0</td>\n",
       "      <td>0</td>\n",
       "      <td>1</td>\n",
       "      <td>0</td>\n",
       "      <td>1</td>\n",
       "      <td>0</td>\n",
       "    </tr>\n",
       "  </tbody>\n",
       "</table>\n",
       "<p>5 rows × 28 columns</p>\n",
       "</div>"
      ],
      "text/plain": [
       "                                              smiles  Hepatobiliary disorders  \\\n",
       "0                                    C(CNCCNCCNCCN)N                        1   \n",
       "1  CC(C)(C)C1=CC(=C(C=C1NC(=O)C2=CNC3=CC=CC=C3C2=...                        0   \n",
       "2  CC[C@]12CC(=C)[C@H]3[C@H]([C@@H]1CC[C@]2(C#C)O...                        0   \n",
       "3    CCC12CC(=C)C3C(C1CC[C@]2(C#C)O)CCC4=CC(=O)CCC34                        1   \n",
       "4             C1C(C2=CC=CC=C2N(C3=CC=CC=C31)C(=O)N)O                        1   \n",
       "\n",
       "   Metabolism and nutrition disorders  Product issues  Eye disorders  \\\n",
       "0                                   1               0              0   \n",
       "1                                   1               0              0   \n",
       "2                                   1               0              1   \n",
       "3                                   1               0              1   \n",
       "4                                   1               0              1   \n",
       "\n",
       "   Investigations  Musculoskeletal and connective tissue disorders  \\\n",
       "0               1                                                1   \n",
       "1               1                                                1   \n",
       "2               1                                                0   \n",
       "3               1                                                1   \n",
       "4               1                                                1   \n",
       "\n",
       "   Gastrointestinal disorders  Social circumstances  Immune system disorders  \\\n",
       "0                           1                     0                        0   \n",
       "1                           1                     0                        0   \n",
       "2                           1                     0                        1   \n",
       "3                           1                     0                        1   \n",
       "4                           1                     0                        1   \n",
       "\n",
       "   ...  Congenital, familial and genetic disorders  \\\n",
       "0  ...                                           0   \n",
       "1  ...                                           0   \n",
       "2  ...                                           0   \n",
       "3  ...                                           1   \n",
       "4  ...                                           0   \n",
       "\n",
       "   Infections and infestations  \\\n",
       "0                            0   \n",
       "1                            1   \n",
       "2                            0   \n",
       "3                            1   \n",
       "4                            1   \n",
       "\n",
       "   Respiratory, thoracic and mediastinal disorders  Psychiatric disorders  \\\n",
       "0                                                1                      1   \n",
       "1                                                1                      0   \n",
       "2                                                0                      1   \n",
       "3                                                1                      1   \n",
       "4                                                1                      1   \n",
       "\n",
       "   Renal and urinary disorders  \\\n",
       "0                            0   \n",
       "1                            0   \n",
       "2                            0   \n",
       "3                            1   \n",
       "4                            0   \n",
       "\n",
       "   Pregnancy, puerperium and perinatal conditions  \\\n",
       "0                                               0   \n",
       "1                                               0   \n",
       "2                                               0   \n",
       "3                                               1   \n",
       "4                                               0   \n",
       "\n",
       "   Ear and labyrinth disorders  Cardiac disorders  Nervous system disorders  \\\n",
       "0                            1                  1                         1   \n",
       "1                            1                  0                         1   \n",
       "2                            0                  0                         1   \n",
       "3                            0                  0                         1   \n",
       "4                            1                  0                         1   \n",
       "\n",
       "   Injury, poisoning and procedural complications  \n",
       "0                                               0  \n",
       "1                                               0  \n",
       "2                                               0  \n",
       "3                                               1  \n",
       "4                                               0  \n",
       "\n",
       "[5 rows x 28 columns]"
      ]
     },
     "execution_count": 3,
     "metadata": {},
     "output_type": "execute_result"
    }
   ],
   "source": [
    "# SIDER Dataset\n",
    "\n",
    "# 1.5 k mols, 27 tasks, 39,956 measurements\n",
    "\n",
    "sider = pd.read_csv(\"datasets/sider.csv\")\n",
    "\n",
    "print('Shape: ', sider.shape)\n",
    "\n",
    "vals = sider.values.flatten()\n",
    "print('Measurments: ', len([v for v in vals if str(v) != 'nan']))\n",
    "\n",
    "sider.head() "
   ]
  },
  {
   "cell_type": "code",
   "execution_count": 4,
   "id": "e6d37efc-3011-490f-85e0-f7eb2a3ec147",
   "metadata": {},
   "outputs": [
    {
     "data": {
      "text/html": [
       "<div>\n",
       "<style scoped>\n",
       "    .dataframe tbody tr th:only-of-type {\n",
       "        vertical-align: middle;\n",
       "    }\n",
       "\n",
       "    .dataframe tbody tr th {\n",
       "        vertical-align: top;\n",
       "    }\n",
       "\n",
       "    .dataframe thead th {\n",
       "        text-align: right;\n",
       "    }\n",
       "</style>\n",
       "<table border=\"1\" class=\"dataframe\">\n",
       "  <thead>\n",
       "    <tr style=\"text-align: right;\">\n",
       "      <th></th>\n",
       "    </tr>\n",
       "  </thead>\n",
       "  <tbody>\n",
       "  </tbody>\n",
       "</table>\n",
       "</div>"
      ],
      "text/plain": [
       "Empty DataFrame\n",
       "Columns: []\n",
       "Index: []"
      ]
     },
     "execution_count": 4,
     "metadata": {},
     "output_type": "execute_result"
    }
   ],
   "source": [
    "# Percentage of actives and inactives per task\n",
    "\n",
    "show = False\n",
    "\n",
    "percentage_df = pd.DataFrame()\n",
    "\n",
    "if show:    \n",
    "    \n",
    "    for col in sider.columns[1:]:\n",
    "        # Calculate the percentages of 0s and 1s\n",
    "        value_counts = sider[col].value_counts(normalize=True) * 100\n",
    "        # Store the result in the DataFrame\n",
    "        percentage_df[col] = value_counts\n",
    "            \n",
    "    percentage_df = percentage_df.reset_index(drop=True)\n",
    "percentage_df"
   ]
  },
  {
   "cell_type": "code",
   "execution_count": 5,
   "id": "8e3c1496-06fb-44ed-9e7e-6a01f8d70002",
   "metadata": {},
   "outputs": [],
   "source": [
    "# Overall percentage of actives and inactives\n",
    "\n",
    "show = False\n",
    "\n",
    "if show:\n",
    "    task_columns = sider.columns[1:]\n",
    "    \n",
    "    # Combine all task columns into a single series\n",
    "    all_tasks_combined = sider[task_columns].values.flatten()\n",
    "    \n",
    "    # Calculate the overall percentage of 0s and 1s\n",
    "    overall_percentages = pd.Series(all_tasks_combined).value_counts(normalize=True) * 100\n",
    "    \n",
    "    # Convert to DataFrame for better visualization\n",
    "    overall_percentages_df = overall_percentages.to_frame(name='Overall Percentage').T\n",
    "    \n",
    "    # Display the overall percentages\n",
    "    print(overall_percentages_df)"
   ]
  },
  {
   "cell_type": "markdown",
   "id": "63024b43",
   "metadata": {},
   "source": [
    "### 1.1 Create Triplet-DF"
   ]
  },
  {
   "cell_type": "code",
   "execution_count": 6,
   "id": "97585e17",
   "metadata": {},
   "outputs": [
    {
     "name": "stdout",
     "output_type": "stream",
     "text": [
      "(38529, 3)\n"
     ]
    }
   ],
   "source": [
    "# mol-id, target-id (unchanged as in sider-df), target (1 or 0)\n",
    " \n",
    "triplets = [(i,j,row.iloc[j]) for i,row in sider.iterrows() for j in range(1,len(row))]\n",
    "\n",
    "# Creating Triplet-DataFrame\n",
    "    ## shape = (sider_rows * tasks, new cols)\n",
    "triplet_df = pd.DataFrame(triplets, columns=['mol_id', 'target_id', 'label']) \n",
    "print(triplet_df.shape)\n",
    "\n",
    "#triplet_df.head()\n",
    "#triplet_df.iloc[25:30] # nTasks = 27 "
   ]
  },
  {
   "cell_type": "markdown",
   "id": "3c891d31",
   "metadata": {},
   "source": [
    "# 2. Preprocessing"
   ]
  },
  {
   "cell_type": "code",
   "execution_count": 7,
   "id": "e6b178af",
   "metadata": {},
   "outputs": [
    {
     "name": "stdout",
     "output_type": "stream",
     "text": [
      "nMols: 1427\n",
      "... processing mol 0 of 1427\n",
      "... processing mol 400 of 1427\n",
      "... processing mol 800 of 1427\n",
      "... processing mol 1200 of 1427\n",
      "... done\n",
      "min and max quantil: (0.000700770847932726, 1.0)\n",
      "min and max of data after scaling: (-7.98318663568334, 37.762415178150384)\n",
      "data.shape: (1427, 2248)\n"
     ]
    }
   ],
   "source": [
    "# preprocessed data\n",
    "\n",
    "data = preprocessing(sider)"
   ]
  },
  {
   "cell_type": "markdown",
   "id": "050a29e5-7423-4ef8-94d4-39016167bae0",
   "metadata": {},
   "source": [
    "# 3. Model"
   ]
  },
  {
   "cell_type": "code",
   "execution_count": 8,
   "id": "5aefc0af-9873-4f49-8390-3fa48aaa98fa",
   "metadata": {},
   "outputs": [],
   "source": [
    "# fs_model.py"
   ]
  },
  {
   "cell_type": "code",
   "execution_count": 9,
   "id": "d90f8429-dd4c-4df6-99c4-d86178a215c9",
   "metadata": {},
   "outputs": [],
   "source": [
    "# default config is saved: default_config.json\n",
    "\n",
    "with open('default_config.json') as json_file:\n",
    "    default_config = json.load(json_file)\n",
    "\n",
    "# if next line uncommented -> not used:\n",
    "model_config = {\n",
    "    \"opt_lr\": 1e-3,\n",
    "    \"weight_decay\": 1e-5,\n",
    "    \"batch_size\": 32,\n",
    "    \"input_dim\": 2248,\n",
    "    \"output_dim\": 1124,\n",
    "    \"num_layers\": 2,\n",
    "    \"p\": 0.1\n",
    "} \n",
    "\n",
    "model_config = default_config # uncomment to use default"
   ]
  },
  {
   "cell_type": "code",
   "execution_count": 10,
   "id": "57b7d818-d547-42ad-adf9-9222d1bbb2ff",
   "metadata": {},
   "outputs": [
    {
     "data": {
      "text/plain": [
       "Model(\n",
       "  (encoder): Sequential(\n",
       "    (0): Linear(in_features=2248, out_features=1124, bias=True)\n",
       "    (1): SELU()\n",
       "    (2): AlphaDropout(p=0.1, inplace=False)\n",
       "    (3): Linear(in_features=1124, out_features=1124, bias=True)\n",
       "    (4): SELU()\n",
       "    (5): AlphaDropout(p=0.1, inplace=False)\n",
       "    (6): Linear(in_features=1124, out_features=1124, bias=True)\n",
       "  )\n",
       "  (ln): LayerNorm((1124,), eps=1e-05, elementwise_affine=False)\n",
       "  (cosine): CosineSimilarity()\n",
       ")"
      ]
     },
     "execution_count": 10,
     "metadata": {},
     "output_type": "execute_result"
    }
   ],
   "source": [
    "# Todo Hyperparameter search\n",
    "\n",
    "model = Model(model_config[\"input_dim\"],model_config[\"output_dim\"],model_config[\"num_layers\"],model_config[\"p\"]) \n",
    "\n",
    "criterion = nn.BCELoss()\n",
    "\n",
    "optimizer = optim.AdamW(model.parameters(), lr=model_config[\"opt_lr\"], weight_decay=model_config[\"weight_decay\"])\n",
    "\n",
    "model.to(device)"
   ]
  },
  {
   "cell_type": "code",
   "execution_count": 11,
   "id": "e096b9eb-211f-47bf-af31-5c8e2a81bfe5",
   "metadata": {},
   "outputs": [],
   "source": [
    "train_config = {\n",
    "    \"model\": model,\n",
    "    \"criterion\": criterion,\n",
    "    \"optimizer\": optimizer,\n",
    "    \"max_epochs\": 50,\n",
    "    \"patience\": 4,\n",
    "    \"log_interval\": 100,\n",
    "    \"val_interval\": 20, # set higher to fasten up the process of training\n",
    "    \"save_path\": f\"{os.path.join('models', 'model')}.mdl\"\n",
    "}"
   ]
  },
  {
   "cell_type": "markdown",
   "id": "48fe26d1",
   "metadata": {},
   "source": [
    "# 4. Train-Split And Dataloader"
   ]
  },
  {
   "cell_type": "markdown",
   "id": "591d13ec",
   "metadata": {},
   "source": [
    "### 4.1 Dataset"
   ]
  },
  {
   "cell_type": "code",
   "execution_count": 12,
   "id": "3567f819",
   "metadata": {},
   "outputs": [],
   "source": [
    "# dataset_modul.py"
   ]
  },
  {
   "cell_type": "markdown",
   "id": "d6c18a3c",
   "metadata": {},
   "source": [
    "### 4.2 Train-Val-Test-Split"
   ]
  },
  {
   "cell_type": "code",
   "execution_count": 13,
   "id": "e4545574-f94f-401f-94ce-42ccacc6a703",
   "metadata": {},
   "outputs": [
    {
     "name": "stdout",
     "output_type": "stream",
     "text": [
      "Train set length: 22832\n",
      "Validation set length: 7135\n",
      "Test set length: 8562\n"
     ]
    }
   ],
   "source": [
    "train_triplet, val_triplet, test_triplet = data_split(triplet_df,seed)\n",
    "#test_triplet['target_id'].unique()"
   ]
  },
  {
   "cell_type": "code",
   "execution_count": 14,
   "id": "e7ef602c-497f-4f45-9709-efd8a56f1720",
   "metadata": {},
   "outputs": [],
   "source": [
    "#test_triplet"
   ]
  },
  {
   "cell_type": "markdown",
   "id": "20effd68-5d3a-44f3-be82-690d5f7c965e",
   "metadata": {},
   "source": [
    "### 4.3 Define Sets"
   ]
  },
  {
   "cell_type": "code",
   "execution_count": 15,
   "id": "ab16680b",
   "metadata": {},
   "outputs": [],
   "source": [
    "np.random.seed(seed)\n",
    "\n",
    "train_set = Dataset(data, sider, train_triplet, supp=8)\n",
    "val_set   = Dataset(data, sider, val_triplet, supp=8, train = False)\n",
    "test_set  = Dataset(data, sider, test_triplet, supp=8, train = False)"
   ]
  },
  {
   "cell_type": "markdown",
   "id": "d2113cba",
   "metadata": {},
   "source": [
    "### 4.4 Define Dataloader"
   ]
  },
  {
   "cell_type": "code",
   "execution_count": 16,
   "id": "8addef08",
   "metadata": {},
   "outputs": [],
   "source": [
    "torch.manual_seed(seed)\n",
    "\n",
    "BATCH_SIZE = model_config[\"batch_size\"] # 16,32,64\n",
    "\n",
    "train_loader = DataLoader(train_set, batch_size=BATCH_SIZE, shuffle=True)\n",
    "val_loader = DataLoader(val_set, batch_size=BATCH_SIZE, shuffle=True)\n",
    "test_loader = DataLoader(test_set , batch_size=BATCH_SIZE, shuffle=True)"
   ]
  },
  {
   "cell_type": "code",
   "execution_count": 17,
   "id": "6cf15133",
   "metadata": {},
   "outputs": [],
   "source": [
    "# fs_model.py"
   ]
  },
  {
   "cell_type": "markdown",
   "id": "24cff3d7-253d-45fe-995b-50489c5d9abb",
   "metadata": {},
   "source": [
    "# 5.Training"
   ]
  },
  {
   "cell_type": "code",
   "execution_count": 18,
   "id": "670d5942-17fc-4d3b-a77c-b968ef64111f",
   "metadata": {},
   "outputs": [
    {
     "name": "stdout",
     "output_type": "stream",
     "text": [
      "epoch:11/50 batches:0700/713 avg-train_loss:0.39992929, avg-val_loss:0.00000000, val-auc:0.79455153, val-dauc_pr:0.18910824                                                                                                                                                                                                                                                                                     Finished training...\n"
     ]
    }
   ],
   "source": [
    "writer = SummaryWriter()\n",
    "train_model(train_config, writer, train_loader, val_loader, device, BATCH_SIZE)"
   ]
  },
  {
   "cell_type": "markdown",
   "id": "b53a0f4f-ac4a-466f-8635-c1b36093f319",
   "metadata": {},
   "source": [
    "# 6. Evalutation on Test-Set"
   ]
  },
  {
   "cell_type": "code",
   "execution_count": 19,
   "id": "e2f4e741-99a7-4957-b341-e76b431bbd91",
   "metadata": {},
   "outputs": [
    {
     "data": {
      "text/plain": [
       "<All keys matched successfully>"
      ]
     },
     "execution_count": 19,
     "metadata": {},
     "output_type": "execute_result"
    }
   ],
   "source": [
    "model.load_state_dict(torch.load(train_config[\"save_path\"]))"
   ]
  },
  {
   "cell_type": "code",
   "execution_count": 20,
   "id": "27223cab-4f98-47a8-b1d8-9671485502db",
   "metadata": {},
   "outputs": [
    {
     "data": {
      "text/html": [
       "<div>\n",
       "<style scoped>\n",
       "    .dataframe tbody tr th:only-of-type {\n",
       "        vertical-align: middle;\n",
       "    }\n",
       "\n",
       "    .dataframe tbody tr th {\n",
       "        vertical-align: top;\n",
       "    }\n",
       "\n",
       "    .dataframe thead th {\n",
       "        text-align: right;\n",
       "    }\n",
       "</style>\n",
       "<table border=\"1\" class=\"dataframe\">\n",
       "  <thead>\n",
       "    <tr style=\"text-align: right;\">\n",
       "      <th></th>\n",
       "      <th>Accuracy</th>\n",
       "      <th>F1 Score</th>\n",
       "      <th>AUC</th>\n",
       "      <th>D-AUC PR</th>\n",
       "    </tr>\n",
       "  </thead>\n",
       "  <tbody>\n",
       "    <tr>\n",
       "      <th>0</th>\n",
       "      <td>0.691566</td>\n",
       "      <td>0.76476</td>\n",
       "      <td>0.799153</td>\n",
       "      <td>0.192824</td>\n",
       "    </tr>\n",
       "  </tbody>\n",
       "</table>\n",
       "</div>"
      ],
      "text/plain": [
       "   Accuracy  F1 Score       AUC  D-AUC PR\n",
       "0  0.691566   0.76476  0.799153  0.192824"
      ]
     },
     "execution_count": 20,
     "metadata": {},
     "output_type": "execute_result"
    }
   ],
   "source": [
    "combined_metrics(model,val_loader,device)"
   ]
  },
  {
   "cell_type": "code",
   "execution_count": 21,
   "id": "19ce0f2a-d18b-458f-9751-ea865b4e91c5",
   "metadata": {},
   "outputs": [
    {
     "data": {
      "text/html": [
       "<div>\n",
       "<style scoped>\n",
       "    .dataframe tbody tr th:only-of-type {\n",
       "        vertical-align: middle;\n",
       "    }\n",
       "\n",
       "    .dataframe tbody tr th {\n",
       "        vertical-align: top;\n",
       "    }\n",
       "\n",
       "    .dataframe thead th {\n",
       "        text-align: right;\n",
       "    }\n",
       "</style>\n",
       "<table border=\"1\" class=\"dataframe\">\n",
       "  <thead>\n",
       "    <tr style=\"text-align: right;\">\n",
       "      <th></th>\n",
       "      <th>Accuracy</th>\n",
       "      <th>F1 Score</th>\n",
       "      <th>AUC</th>\n",
       "      <th>D-AUC PR</th>\n",
       "    </tr>\n",
       "  </thead>\n",
       "  <tbody>\n",
       "    <tr>\n",
       "      <th>0</th>\n",
       "      <td>0.817151</td>\n",
       "      <td>0.699544</td>\n",
       "      <td>0.823373</td>\n",
       "      <td>0.204095</td>\n",
       "    </tr>\n",
       "  </tbody>\n",
       "</table>\n",
       "</div>"
      ],
      "text/plain": [
       "   Accuracy  F1 Score       AUC  D-AUC PR\n",
       "0  0.817151  0.699544  0.823373  0.204095"
      ]
     },
     "execution_count": 21,
     "metadata": {},
     "output_type": "execute_result"
    }
   ],
   "source": [
    "combined_metrics(model,test_loader,device)"
   ]
  },
  {
   "cell_type": "code",
   "execution_count": 22,
   "id": "64c6c958-8b12-42be-82be-d8abdeff4fe4",
   "metadata": {},
   "outputs": [],
   "source": [
    "# notes:\n",
    "\n",
    "# smaller output size (600) gave better results on testset compared to default config\n",
    "# out: 600 + batchsize: 64 worsens the result slightly compared to only out: 600\n",
    "# out: 600 + batchsize: 64 better than with 64 but still not as good as only out: 600\n",
    "# out: 600 + lr: 1e-5 acc auc slightly worse 0.02, aucpr slightly better\n",
    "# lr: 1e-5 aucpr slightly better\n",
    "# lr: 1e-5 + 3 layers -> better results than out: 600 only -> new best\n",
    "# lr: 1e-5 + 3 layers + 600 -> no increases of evaluation\n",
    "# lr: 1e-3 + 3 layers + 600 -> no increases of evaluation\n",
    "# 5 layers -> no better results\n",
    "# droppout: 0.2 -> no better results\n",
    "# drop: 0.2 + 5layers + lr: 1e-5 -> best results for daucpr but auc decreases\n",
    "# drop: 0.2 + 10layers + lr: 1e-5 -> auc ~0.6 & daucPr ~0.034 best score yet"
   ]
  },
  {
   "attachments": {
    "ad30a6c0-08e5-4cf8-a677-71455f327af4.png": {
     "image/png": "[encoded data removed]"
    }
   },
   "cell_type": "markdown",
   "id": "37c287b7-2302-455c-b475-e0ca728d05c1",
   "metadata": {},
   "source": [
    "# default results (may vary due to adamW):\n",
    "\n",
    "![image.png](attachment:ad30a6c0-08e5-4cf8-a677-71455f327af4.png)"
   ]
  },
  {
   "cell_type": "markdown",
   "id": "a3debf7d-10fe-410a-885c-8918ed03dd4f",
   "metadata": {},
   "source": [
    "# 7. Compare to Baseline"
   ]
  },
  {
   "cell_type": "markdown",
   "id": "8fcdb2e3-4ccf-45cf-b89c-cb7640f42929",
   "metadata": {},
   "source": [
    "### RF Training"
   ]
  },
  {
   "cell_type": "code",
   "execution_count": 23,
   "id": "b5e68794-97fb-4809-95cf-aaa6a0b63947",
   "metadata": {},
   "outputs": [],
   "source": [
    "y_hats_proba, y_hats_class,true_labels = train_rf(sider, data, test_triplet, seed, 1000, shuffle = True)"
   ]
  },
  {
   "cell_type": "markdown",
   "id": "2cd9f4dd-7b9c-4c7c-9518-20f44cc34e65",
   "metadata": {},
   "source": [
    "### Evaluate"
   ]
  },
  {
   "cell_type": "code",
   "execution_count": 24,
   "id": "dd773f51-bed0-4408-a734-3e635a199455",
   "metadata": {},
   "outputs": [
    {
     "data": {
      "text/html": [
       "<div>\n",
       "<style scoped>\n",
       "    .dataframe tbody tr th:only-of-type {\n",
       "        vertical-align: middle;\n",
       "    }\n",
       "\n",
       "    .dataframe tbody tr th {\n",
       "        vertical-align: top;\n",
       "    }\n",
       "\n",
       "    .dataframe thead th {\n",
       "        text-align: right;\n",
       "    }\n",
       "</style>\n",
       "<table border=\"1\" class=\"dataframe\">\n",
       "  <thead>\n",
       "    <tr style=\"text-align: right;\">\n",
       "      <th></th>\n",
       "      <th>Accuracy</th>\n",
       "      <th>F1 Score</th>\n",
       "      <th>AUC</th>\n",
       "      <th>D-AUC PR</th>\n",
       "    </tr>\n",
       "  </thead>\n",
       "  <tbody>\n",
       "    <tr>\n",
       "      <th>0</th>\n",
       "      <td>0.518427</td>\n",
       "      <td>0.548678</td>\n",
       "      <td>0.524083</td>\n",
       "      <td>0.00734</td>\n",
       "    </tr>\n",
       "  </tbody>\n",
       "</table>\n",
       "</div>"
      ],
      "text/plain": [
       "   Accuracy  F1 Score       AUC  D-AUC PR\n",
       "0  0.518427  0.548678  0.524083   0.00734"
      ]
     },
     "execution_count": 24,
     "metadata": {},
     "output_type": "execute_result"
    }
   ],
   "source": [
    "eval_rf( y_hats_class,true_labels)"
   ]
  }
 ],
 "metadata": {
  "kernelspec": {
   "display_name": "Python 3 (ipykernel)",
   "language": "python",
   "name": "python3"
  },
  "language_info": {
   "codemirror_mode": {
    "name": "ipython",
    "version": 3
   },
   "file_extension": ".py",
   "mimetype": "text/x-python",
   "name": "python",
   "nbconvert_exporter": "python",
   "pygments_lexer": "ipython3",
   "version": "3.10.13"
  }
 },
 "nbformat": 4,
 "nbformat_minor": 5
}

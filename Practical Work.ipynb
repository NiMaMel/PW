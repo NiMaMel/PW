{
 "cells": [
  {
   "cell_type": "markdown",
   "id": "245a0370-178b-48df-8605-a2f84621f7b5",
   "metadata": {},
   "source": [
    "### Notes (open tasks):\n",
    "\n",
    "- dAUC-PR metrik\n",
    "- for overview move train functions to utils  "
   ]
  },
  {
   "cell_type": "code",
   "execution_count": 1,
   "id": "ea889c47-39bd-44d1-aacf-6ecade0befb1",
   "metadata": {},
   "outputs": [],
   "source": [
    "seed = 42\n",
    "\n",
    "import os\n",
    "import numpy as np\n",
    "import pandas as pd\n",
    "\n",
    "import torch as torch\n",
    "import torch.nn as nn\n",
    "import torch.optim as optim\n",
    "from torch.utils.data import DataLoader\n",
    "from torch.utils.tensorboard import SummaryWriter\n",
    "\n",
    "from sklearn.metrics import accuracy_score, f1_score, average_precision_score\n",
    "\n",
    "from fs_model import Model\n",
    "from dataset_modul import Dataset\n",
    "from preprocessing import preprocessing\n",
    "from utils import data_split, acc_f1, flatten,train_rf, auc_pr,train_model"
   ]
  },
  {
   "cell_type": "code",
   "execution_count": 2,
   "id": "f5b29c7c-7be0-4707-971d-9d46c94d2cbc",
   "metadata": {},
   "outputs": [
    {
     "name": "stdout",
     "output_type": "stream",
     "text": [
      "NVIDIA GeForce RTX 4060 Ti\n"
     ]
    }
   ],
   "source": [
    "# use cuda\n",
    "if torch.cuda.is_available():\n",
    "    device_id = torch.cuda.current_device()\n",
    "    device = torch.device('cuda:%d' % device_id)\n",
    "    print(torch.cuda.get_device_name(device_id))\n",
    "else:\n",
    "    device = torch.device('cpu')"
   ]
  },
  {
   "cell_type": "markdown",
   "id": "3d469c3e",
   "metadata": {},
   "source": [
    "# 1. Load Dataset"
   ]
  },
  {
   "cell_type": "code",
   "execution_count": 18,
   "id": "49c55759",
   "metadata": {},
   "outputs": [
    {
     "name": "stdout",
     "output_type": "stream",
     "text": [
      "Shape:  (1427, 28)\n",
      "Measurments:  39956\n"
     ]
    },
    {
     "data": {
      "text/html": [
       "<div>\n",
       "<style scoped>\n",
       "    .dataframe tbody tr th:only-of-type {\n",
       "        vertical-align: middle;\n",
       "    }\n",
       "\n",
       "    .dataframe tbody tr th {\n",
       "        vertical-align: top;\n",
       "    }\n",
       "\n",
       "    .dataframe thead th {\n",
       "        text-align: right;\n",
       "    }\n",
       "</style>\n",
       "<table border=\"1\" class=\"dataframe\">\n",
       "  <thead>\n",
       "    <tr style=\"text-align: right;\">\n",
       "      <th></th>\n",
       "      <th>smiles</th>\n",
       "      <th>Hepatobiliary disorders</th>\n",
       "      <th>Metabolism and nutrition disorders</th>\n",
       "      <th>Product issues</th>\n",
       "      <th>Eye disorders</th>\n",
       "      <th>Investigations</th>\n",
       "      <th>Musculoskeletal and connective tissue disorders</th>\n",
       "      <th>Gastrointestinal disorders</th>\n",
       "      <th>Social circumstances</th>\n",
       "      <th>Immune system disorders</th>\n",
       "      <th>...</th>\n",
       "      <th>Congenital, familial and genetic disorders</th>\n",
       "      <th>Infections and infestations</th>\n",
       "      <th>Respiratory, thoracic and mediastinal disorders</th>\n",
       "      <th>Psychiatric disorders</th>\n",
       "      <th>Renal and urinary disorders</th>\n",
       "      <th>Pregnancy, puerperium and perinatal conditions</th>\n",
       "      <th>Ear and labyrinth disorders</th>\n",
       "      <th>Cardiac disorders</th>\n",
       "      <th>Nervous system disorders</th>\n",
       "      <th>Injury, poisoning and procedural complications</th>\n",
       "    </tr>\n",
       "  </thead>\n",
       "  <tbody>\n",
       "    <tr>\n",
       "      <th>0</th>\n",
       "      <td>C(CNCCNCCNCCN)N</td>\n",
       "      <td>1</td>\n",
       "      <td>1</td>\n",
       "      <td>0</td>\n",
       "      <td>0</td>\n",
       "      <td>1</td>\n",
       "      <td>1</td>\n",
       "      <td>1</td>\n",
       "      <td>0</td>\n",
       "      <td>0</td>\n",
       "      <td>...</td>\n",
       "      <td>0</td>\n",
       "      <td>0</td>\n",
       "      <td>1</td>\n",
       "      <td>1</td>\n",
       "      <td>0</td>\n",
       "      <td>0</td>\n",
       "      <td>1</td>\n",
       "      <td>1</td>\n",
       "      <td>1</td>\n",
       "      <td>0</td>\n",
       "    </tr>\n",
       "    <tr>\n",
       "      <th>1</th>\n",
       "      <td>CC(C)(C)C1=CC(=C(C=C1NC(=O)C2=CNC3=CC=CC=C3C2=...</td>\n",
       "      <td>0</td>\n",
       "      <td>1</td>\n",
       "      <td>0</td>\n",
       "      <td>0</td>\n",
       "      <td>1</td>\n",
       "      <td>1</td>\n",
       "      <td>1</td>\n",
       "      <td>0</td>\n",
       "      <td>0</td>\n",
       "      <td>...</td>\n",
       "      <td>0</td>\n",
       "      <td>1</td>\n",
       "      <td>1</td>\n",
       "      <td>0</td>\n",
       "      <td>0</td>\n",
       "      <td>0</td>\n",
       "      <td>1</td>\n",
       "      <td>0</td>\n",
       "      <td>1</td>\n",
       "      <td>0</td>\n",
       "    </tr>\n",
       "    <tr>\n",
       "      <th>2</th>\n",
       "      <td>CC[C@]12CC(=C)[C@H]3[C@H]([C@@H]1CC[C@]2(C#C)O...</td>\n",
       "      <td>0</td>\n",
       "      <td>1</td>\n",
       "      <td>0</td>\n",
       "      <td>1</td>\n",
       "      <td>1</td>\n",
       "      <td>0</td>\n",
       "      <td>1</td>\n",
       "      <td>0</td>\n",
       "      <td>1</td>\n",
       "      <td>...</td>\n",
       "      <td>0</td>\n",
       "      <td>0</td>\n",
       "      <td>0</td>\n",
       "      <td>1</td>\n",
       "      <td>0</td>\n",
       "      <td>0</td>\n",
       "      <td>0</td>\n",
       "      <td>0</td>\n",
       "      <td>1</td>\n",
       "      <td>0</td>\n",
       "    </tr>\n",
       "    <tr>\n",
       "      <th>3</th>\n",
       "      <td>CCC12CC(=C)C3C(C1CC[C@]2(C#C)O)CCC4=CC(=O)CCC34</td>\n",
       "      <td>1</td>\n",
       "      <td>1</td>\n",
       "      <td>0</td>\n",
       "      <td>1</td>\n",
       "      <td>1</td>\n",
       "      <td>1</td>\n",
       "      <td>1</td>\n",
       "      <td>0</td>\n",
       "      <td>1</td>\n",
       "      <td>...</td>\n",
       "      <td>1</td>\n",
       "      <td>1</td>\n",
       "      <td>1</td>\n",
       "      <td>1</td>\n",
       "      <td>1</td>\n",
       "      <td>1</td>\n",
       "      <td>0</td>\n",
       "      <td>0</td>\n",
       "      <td>1</td>\n",
       "      <td>1</td>\n",
       "    </tr>\n",
       "    <tr>\n",
       "      <th>4</th>\n",
       "      <td>C1C(C2=CC=CC=C2N(C3=CC=CC=C31)C(=O)N)O</td>\n",
       "      <td>1</td>\n",
       "      <td>1</td>\n",
       "      <td>0</td>\n",
       "      <td>1</td>\n",
       "      <td>1</td>\n",
       "      <td>1</td>\n",
       "      <td>1</td>\n",
       "      <td>0</td>\n",
       "      <td>1</td>\n",
       "      <td>...</td>\n",
       "      <td>0</td>\n",
       "      <td>1</td>\n",
       "      <td>1</td>\n",
       "      <td>1</td>\n",
       "      <td>0</td>\n",
       "      <td>0</td>\n",
       "      <td>1</td>\n",
       "      <td>0</td>\n",
       "      <td>1</td>\n",
       "      <td>0</td>\n",
       "    </tr>\n",
       "  </tbody>\n",
       "</table>\n",
       "<p>5 rows × 28 columns</p>\n",
       "</div>"
      ],
      "text/plain": [
       "                                              smiles  Hepatobiliary disorders  \\\n",
       "0                                    C(CNCCNCCNCCN)N                        1   \n",
       "1  CC(C)(C)C1=CC(=C(C=C1NC(=O)C2=CNC3=CC=CC=C3C2=...                        0   \n",
       "2  CC[C@]12CC(=C)[C@H]3[C@H]([C@@H]1CC[C@]2(C#C)O...                        0   \n",
       "3    CCC12CC(=C)C3C(C1CC[C@]2(C#C)O)CCC4=CC(=O)CCC34                        1   \n",
       "4             C1C(C2=CC=CC=C2N(C3=CC=CC=C31)C(=O)N)O                        1   \n",
       "\n",
       "   Metabolism and nutrition disorders  Product issues  Eye disorders  \\\n",
       "0                                   1               0              0   \n",
       "1                                   1               0              0   \n",
       "2                                   1               0              1   \n",
       "3                                   1               0              1   \n",
       "4                                   1               0              1   \n",
       "\n",
       "   Investigations  Musculoskeletal and connective tissue disorders  \\\n",
       "0               1                                                1   \n",
       "1               1                                                1   \n",
       "2               1                                                0   \n",
       "3               1                                                1   \n",
       "4               1                                                1   \n",
       "\n",
       "   Gastrointestinal disorders  Social circumstances  Immune system disorders  \\\n",
       "0                           1                     0                        0   \n",
       "1                           1                     0                        0   \n",
       "2                           1                     0                        1   \n",
       "3                           1                     0                        1   \n",
       "4                           1                     0                        1   \n",
       "\n",
       "   ...  Congenital, familial and genetic disorders  \\\n",
       "0  ...                                           0   \n",
       "1  ...                                           0   \n",
       "2  ...                                           0   \n",
       "3  ...                                           1   \n",
       "4  ...                                           0   \n",
       "\n",
       "   Infections and infestations  \\\n",
       "0                            0   \n",
       "1                            1   \n",
       "2                            0   \n",
       "3                            1   \n",
       "4                            1   \n",
       "\n",
       "   Respiratory, thoracic and mediastinal disorders  Psychiatric disorders  \\\n",
       "0                                                1                      1   \n",
       "1                                                1                      0   \n",
       "2                                                0                      1   \n",
       "3                                                1                      1   \n",
       "4                                                1                      1   \n",
       "\n",
       "   Renal and urinary disorders  \\\n",
       "0                            0   \n",
       "1                            0   \n",
       "2                            0   \n",
       "3                            1   \n",
       "4                            0   \n",
       "\n",
       "   Pregnancy, puerperium and perinatal conditions  \\\n",
       "0                                               0   \n",
       "1                                               0   \n",
       "2                                               0   \n",
       "3                                               1   \n",
       "4                                               0   \n",
       "\n",
       "   Ear and labyrinth disorders  Cardiac disorders  Nervous system disorders  \\\n",
       "0                            1                  1                         1   \n",
       "1                            1                  0                         1   \n",
       "2                            0                  0                         1   \n",
       "3                            0                  0                         1   \n",
       "4                            1                  0                         1   \n",
       "\n",
       "   Injury, poisoning and procedural complications  \n",
       "0                                               0  \n",
       "1                                               0  \n",
       "2                                               0  \n",
       "3                                               1  \n",
       "4                                               0  \n",
       "\n",
       "[5 rows x 28 columns]"
      ]
     },
     "execution_count": 18,
     "metadata": {},
     "output_type": "execute_result"
    }
   ],
   "source": [
    "# SIDER Dataset\n",
    "\n",
    "# 1.5 k mols, 27 tasks, 39,956 measurements\n",
    "\n",
    "sider = pd.read_csv(\"datasets/sider.csv\")\n",
    "\n",
    "print('Shape: ', sider.shape)\n",
    "\n",
    "vals = sider.values.flatten()\n",
    "print('Measurments: ', len([v for v in vals if str(v) != 'nan']))\n",
    "\n",
    "sider.head() "
   ]
  },
  {
   "cell_type": "markdown",
   "id": "63024b43",
   "metadata": {},
   "source": [
    "### 1.1 Create Triplet-DF"
   ]
  },
  {
   "cell_type": "code",
   "execution_count": 4,
   "id": "97585e17",
   "metadata": {},
   "outputs": [
    {
     "name": "stdout",
     "output_type": "stream",
     "text": [
      "(38529, 3)\n"
     ]
    }
   ],
   "source": [
    "# mol-id, target-id (unchanged as in sider-df), target (1 or 0)\n",
    " \n",
    "triplets = [(i,j,row.iloc[j]) for i,row in sider.iterrows() for j in range(1,len(row))]\n",
    "\n",
    "# Creating Triplet-DataFrame\n",
    "\n",
    "triplet_df = pd.DataFrame(triplets, columns=['mol_id', 'target_id', 'label']) \n",
    "print(triplet_df.shape)\n",
    "\n",
    "# shape == 38520 (sider_rows * tasks, new cols)\n",
    "\n",
    "#triplet_df.head()\n",
    "#triplet_df.iloc[25:30] # nTasks = 27 "
   ]
  },
  {
   "cell_type": "markdown",
   "id": "3c891d31",
   "metadata": {},
   "source": [
    "# 2. Preprocessing"
   ]
  },
  {
   "cell_type": "code",
   "execution_count": 5,
   "id": "e6b178af",
   "metadata": {},
   "outputs": [
    {
     "name": "stdout",
     "output_type": "stream",
     "text": [
      "nMols: 1427\n",
      "... processing mol 0 of 1427\n",
      "... processing mol 400 of 1427\n",
      "... processing mol 800 of 1427\n",
      "... processing mol 1200 of 1427\n",
      "... done\n",
      "min and max quantil: (0.000700770847932726, 1.0)\n",
      "min and max of data after scaling: (-7.98318663568334, 37.762415178150384)\n",
      "data.shape: (1427, 2248)\n"
     ]
    }
   ],
   "source": [
    "# preprocessed data\n",
    "\n",
    "data = preprocessing(sider)"
   ]
  },
  {
   "cell_type": "markdown",
   "id": "48fe26d1",
   "metadata": {},
   "source": [
    "# 3. Train-Split And Dataloader"
   ]
  },
  {
   "cell_type": "markdown",
   "id": "591d13ec",
   "metadata": {},
   "source": [
    "### 3.1 Dataset"
   ]
  },
  {
   "cell_type": "code",
   "execution_count": 6,
   "id": "3567f819",
   "metadata": {},
   "outputs": [],
   "source": [
    "# dataset_modul.py"
   ]
  },
  {
   "cell_type": "markdown",
   "id": "d6c18a3c",
   "metadata": {},
   "source": [
    "### 3.2 Train-Val-Test-Split"
   ]
  },
  {
   "cell_type": "code",
   "execution_count": 7,
   "id": "e4545574-f94f-401f-94ce-42ccacc6a703",
   "metadata": {},
   "outputs": [
    {
     "name": "stdout",
     "output_type": "stream",
     "text": [
      "Train set length: 22832\n",
      "Validation set length: 7135\n",
      "Test set length: 8562\n"
     ]
    }
   ],
   "source": [
    "train_triplet, val_triplet, test_triplet = data_split(triplet_df,seed)\n",
    "#test_triplet['target_id'].value_counts()"
   ]
  },
  {
   "cell_type": "code",
   "execution_count": 8,
   "id": "e7ef602c-497f-4f45-9709-efd8a56f1720",
   "metadata": {},
   "outputs": [],
   "source": [
    "#test_triplet"
   ]
  },
  {
   "cell_type": "markdown",
   "id": "20effd68-5d3a-44f3-be82-690d5f7c965e",
   "metadata": {},
   "source": [
    "### 3.3 Define Sets"
   ]
  },
  {
   "cell_type": "code",
   "execution_count": 9,
   "id": "ab16680b",
   "metadata": {},
   "outputs": [],
   "source": [
    "np.random.seed(seed)\n",
    "\n",
    "train_set = Dataset(data, sider, train_triplet, supp=8)\n",
    "val_set   = Dataset(data, sider, val_triplet, supp=8, train = False)\n",
    "test_set  = Dataset(data, sider, test_triplet, supp=8, train = False)"
   ]
  },
  {
   "cell_type": "markdown",
   "id": "d2113cba",
   "metadata": {},
   "source": [
    "### 3.4 Define Dataloader"
   ]
  },
  {
   "cell_type": "code",
   "execution_count": 10,
   "id": "8addef08",
   "metadata": {},
   "outputs": [],
   "source": [
    "torch.manual_seed(seed)\n",
    "\n",
    "BATCH_SIZE = 32 # 16,32,64\n",
    "\n",
    "train_loader = DataLoader(train_set, batch_size=BATCH_SIZE, shuffle=True)\n",
    "val_loader = DataLoader(val_set, batch_size=BATCH_SIZE, shuffle=True)\n",
    "test_loader = DataLoader(test_set , batch_size=BATCH_SIZE, shuffle=True)"
   ]
  },
  {
   "cell_type": "markdown",
   "id": "43999de1",
   "metadata": {},
   "source": [
    "# 4. Model"
   ]
  },
  {
   "cell_type": "code",
   "execution_count": 11,
   "id": "6cf15133",
   "metadata": {},
   "outputs": [],
   "source": [
    "# fs_model.py"
   ]
  },
  {
   "cell_type": "markdown",
   "id": "24cff3d7-253d-45fe-995b-50489c5d9abb",
   "metadata": {},
   "source": [
    "# 5.Training"
   ]
  },
  {
   "cell_type": "code",
   "execution_count": 12,
   "id": "c485445b-9d9d-41f7-abbf-6519f6f5c774",
   "metadata": {},
   "outputs": [
    {
     "data": {
      "text/plain": [
       "Model(\n",
       "  (encoder): Sequential(\n",
       "    (0): Linear(in_features=2248, out_features=2248, bias=True)\n",
       "    (1): SELU()\n",
       "    (2): AlphaDropout(p=0.1, inplace=False)\n",
       "    (3): Linear(in_features=2248, out_features=2248, bias=True)\n",
       "    (4): SELU()\n",
       "    (5): AlphaDropout(p=0.1, inplace=False)\n",
       "    (6): Linear(in_features=2248, out_features=1124, bias=True)\n",
       "  )\n",
       "  (ln): LayerNorm((1124,), eps=1e-05, elementwise_affine=False)\n",
       "  (cosine): CosineSimilarity()\n",
       ")"
      ]
     },
     "execution_count": 12,
     "metadata": {},
     "output_type": "execute_result"
    }
   ],
   "source": [
    "# Todo Hyperparameter search\n",
    "\n",
    "model = Model(2248,1124,2,0.1) \n",
    "\n",
    "criterion = nn.BCELoss()\n",
    "\n",
    "optimizer = torch.optim.Adam(model.parameters(), lr=1e-3) # adam.w with weight decay\n",
    "\n",
    "model.to(device)"
   ]
  },
  {
   "cell_type": "code",
   "execution_count": 13,
   "id": "670d5942-17fc-4d3b-a77c-b968ef64111f",
   "metadata": {},
   "outputs": [
    {
     "name": "stdout",
     "output_type": "stream",
     "text": [
      "epoch:8/50 batches:0700/713 avg-loss:0.43340960144996643 val-auc_pr:0.7363031467137865                                                                                                                                                                                                                                                                                                                          Finished training...\n"
     ]
    }
   ],
   "source": [
    "config = {\n",
    "    \"model\": model,\n",
    "    \"criterion\": criterion,\n",
    "    \"optimizer\": optimizer,\n",
    "    \"max_epochs\": 50,\n",
    "    \"patience\": 4,\n",
    "    \"log_interval\": 100,\n",
    "    \"save_path\": f\"{os.path.join('models', 'model')}.mdl\"\n",
    "}\n",
    "\n",
    "writer = SummaryWriter()\n",
    "train_model(config, writer, train_loader, val_loader, device, BATCH_SIZE)"
   ]
  },
  {
   "cell_type": "markdown",
   "id": "b53a0f4f-ac4a-466f-8635-c1b36093f319",
   "metadata": {},
   "source": [
    "# 6. Evalutation on Test-Set"
   ]
  },
  {
   "cell_type": "code",
   "execution_count": 14,
   "id": "cd332e62-202a-42c7-9e9f-b51e8ec0a590",
   "metadata": {},
   "outputs": [
    {
     "name": "stdout",
     "output_type": "stream",
     "text": [
      "Accuracy on val-set: 0.7330\n",
      "F1-Score on val-set: 0.8029\n",
      "\n",
      "Accuracy on test-set: 0.7614\n",
      "F1-Score on test-set: 0.7764\n"
     ]
    }
   ],
   "source": [
    "# acc + f1\n",
    "\n",
    "# load best model\n",
    "model.load_state_dict(torch.load(config[\"save_path\"]))\n",
    "model.train(False)\n",
    "\n",
    "# evaluate model on valset and testset\n",
    "val_acc,val_f1   = acc_f1(model,val_loader,device)\n",
    "test_acc,test_f1 = acc_f1(model,test_loader,device)\n",
    "\n",
    "print(f\"Accuracy on val-set: {val_acc:.4f}\")\n",
    "print(f\"F1-Score on val-set: {val_f1:.4f}\\n\")\n",
    "print(f\"Accuracy on test-set: {test_acc:.4f}\")\n",
    "print(f\"F1-Score on test-set: {test_f1:.4f}\")"
   ]
  },
  {
   "cell_type": "code",
   "execution_count": 15,
   "id": "12c18638-e20e-4493-bb43-2ab461f40ba0",
   "metadata": {},
   "outputs": [
    {
     "name": "stdout",
     "output_type": "stream",
     "text": [
      "AUC-PR on val-set: 0.7742\n",
      "AUC-PR on test-set: 0.7951\n",
      "\n"
     ]
    }
   ],
   "source": [
    "# evaluate model on valset and testset\n",
    "val_aucPR  = auc_pr(model,val_loader,device)\n",
    "test_aucPR  = auc_pr(model,test_loader,device)\n",
    "\n",
    "print(f\"AUC-PR on val-set: {val_aucPR:.4f}\")\n",
    "print(f\"AUC-PR on test-set: {test_aucPR:.4f}\\n\")"
   ]
  },
  {
   "cell_type": "markdown",
   "id": "a3debf7d-10fe-410a-885c-8918ed03dd4f",
   "metadata": {},
   "source": [
    "# 7. Compare to Baseline"
   ]
  },
  {
   "cell_type": "markdown",
   "id": "8fcdb2e3-4ccf-45cf-b89c-cb7640f42929",
   "metadata": {},
   "source": [
    "### RF Training"
   ]
  },
  {
   "cell_type": "code",
   "execution_count": 16,
   "id": "b5e68794-97fb-4809-95cf-aaa6a0b63947",
   "metadata": {},
   "outputs": [],
   "source": [
    "y_hats_proba, y_hats_class,true_labels = train_rf(sider, data, test_triplet, seed, 1000, shuffle = True)"
   ]
  },
  {
   "cell_type": "markdown",
   "id": "2cd9f4dd-7b9c-4c7c-9518-20f44cc34e65",
   "metadata": {},
   "source": [
    "### Evaluate"
   ]
  },
  {
   "cell_type": "code",
   "execution_count": 17,
   "id": "4891f4af-4ec5-4878-8f33-715bfbc9b599",
   "metadata": {},
   "outputs": [
    {
     "name": "stdout",
     "output_type": "stream",
     "text": [
      "Accuracy: 0.5184\n",
      "F1 Score: 0.5866\n",
      "AUC-PR Score: 0.6005\n"
     ]
    }
   ],
   "source": [
    "predictions, targets = flatten(y_hats_class), flatten(true_labels)\n",
    "\n",
    "# F1 Score\n",
    "f1 = f1_score(targets, predictions)\n",
    "\n",
    "# Calculate accuracy\n",
    "accuracy = accuracy_score(targets, predictions)\n",
    "\n",
    "# Calc AUC-PR\n",
    "aucPR = average_precision_score(targets, predictions)\n",
    "\n",
    "print(f\"Accuracy: {accuracy:.4f}\")\n",
    "print(f\"F1 Score: {f1:.4f}\")\n",
    "print(f\"AUC-PR Score: {aucPR:.4f}\")"
   ]
  }
 ],
 "metadata": {
  "kernelspec": {
   "display_name": "Python 3 (ipykernel)",
   "language": "python",
   "name": "python3"
  },
  "language_info": {
   "codemirror_mode": {
    "name": "ipython",
    "version": 3
   },
   "file_extension": ".py",
   "mimetype": "text/x-python",
   "name": "python",
   "nbconvert_exporter": "python",
   "pygments_lexer": "ipython3",
   "version": "3.10.13"
  }
 },
 "nbformat": 4,
 "nbformat_minor": 5
}
